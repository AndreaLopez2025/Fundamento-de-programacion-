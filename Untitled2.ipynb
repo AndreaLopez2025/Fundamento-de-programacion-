{
  "nbformat": 4,
  "nbformat_minor": 0,
  "metadata": {
    "colab": {
      "provenance": [],
      "authorship_tag": "ABX9TyPWsTqIZaGXWzfeNZ4WRpUr",
      "include_colab_link": true
    },
    "kernelspec": {
      "name": "python3",
      "display_name": "Python 3"
    },
    "language_info": {
      "name": "python"
    }
  },
  "cells": [
    {
      "cell_type": "markdown",
      "metadata": {
        "id": "view-in-github",
        "colab_type": "text"
      },
      "source": [
        "<a href=\"https://colab.research.google.com/github/AndreaLopez2025/Fundamento-de-programacion-/blob/main/Untitled2.ipynb\" target=\"_parent\"><img src=\"https://colab.research.google.com/assets/colab-badge.svg\" alt=\"Open In Colab\"/></a>"
      ]
    },
    {
      "cell_type": "code",
      "source": [
        "Num1 = int(input(\"Ingrese el primer numero: \"))\n",
        "Num2 = int(input(\"Ingrese el segundo numero: \"))\n",
        "if Num1 > Num2:\n",
        "    print(\"El numero mayor es: \", Num1)\n",
        "else:\n",
        "    print(\"El numero mayor es: \", Num2)"
      ],
      "metadata": {
        "colab": {
          "base_uri": "https://localhost:8080/"
        },
        "id": "shSP249WTCsq",
        "outputId": "7c57d514-de8b-41c8-f161-c53b524bdf88"
      },
      "execution_count": 6,
      "outputs": [
        {
          "output_type": "stream",
          "name": "stdout",
          "text": [
            "Ingrese el primer numero: 3\n",
            "Ingrese el segundo numero: 5\n",
            "El numero mayor es:  5\n"
          ]
        }
      ]
    },
    {
      "cell_type": "code",
      "execution_count": 4,
      "metadata": {
        "colab": {
          "base_uri": "https://localhost:8080/"
        },
        "id": "we-8l5yHRXpG",
        "outputId": "d6772319-1a15-4657-bfcc-fd389dee701c"
      },
      "outputs": [
        {
          "output_type": "stream",
          "name": "stdout",
          "text": [
            "Ingrese el primer numero: 3\n",
            "Ingrese el segundo numero: 5\n",
            "El numero mayor es:  5\n"
          ]
        }
      ],
      "source": [
        "# Leer los datos\n",
        "Num1 = 0\n",
        "Num2 = 0\n",
        "Num1 = int(input(\"Ingrese el primer numero: \"))\n",
        "Num2 = int(input(\"Ingrese el segundo numero: \"))\n",
        "# Condicionar el resultado\n",
        "if Num1 > Num2:\n",
        "    print(\"El numero mayor es: \", Num1)\n",
        "else:\n",
        "  # Limpiar los datos\n",
        "    print(\"El numero mayor es: \", Num2)"
      ]
    },
    {
      "cell_type": "markdown",
      "source": [
        "FUNDAMENTOS DE PROGRAMACION Programa que encuentre entre dos numeros diferentes el mayor"
      ],
      "metadata": {
        "id": "7inr6QUMRkiz"
      }
    }
  ]
}