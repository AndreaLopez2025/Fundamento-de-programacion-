{
  "nbformat": 4,
  "nbformat_minor": 0,
  "metadata": {
    "colab": {
      "provenance": [],
      "authorship_tag": "ABX9TyNFF+PSepVxk435BPW/TwDK",
      "include_colab_link": true
    },
    "kernelspec": {
      "name": "python3",
      "display_name": "Python 3"
    },
    "language_info": {
      "name": "python"
    }
  },
  "cells": [
    {
      "cell_type": "markdown",
      "metadata": {
        "id": "view-in-github",
        "colab_type": "text"
      },
      "source": [
        "<a href=\"https://colab.research.google.com/github/AndreaLopez2025/Fundamento-de-programacion-/blob/main/Untitled2.ipynb\" target=\"_parent\"><img src=\"https://colab.research.google.com/assets/colab-badge.svg\" alt=\"Open In Colab\"/></a>"
      ]
    },
    {
      "cell_type": "markdown",
      "source": [
        "ITSLP- FUNDAMENTOS DE PROGRAMACION- programa que encuentra entre 2 numeros diferentes el mayor"
      ],
      "metadata": {
        "id": "WDG567YLQXFP"
      }
    },
    {
      "cell_type": "code",
      "execution_count": 5,
      "metadata": {
        "colab": {
          "base_uri": "https://localhost:8080/"
        },
        "id": "cC-Ve-z0QQyj",
        "outputId": "414bc743-52b0-4fc9-f7a6-80e9ea77f713"
      },
      "outputs": [
        {
          "output_type": "stream",
          "name": "stdout",
          "text": [
            "ingrese el valor num1:3\n",
            "ingrese el valor num2:5\n",
            "el numero mayor es 5\n"
          ]
        }
      ],
      "source": [
        "num1 = 0\n",
        "num2 = 0\n",
        "num1 = int(input(\"ingrese el valor num1:\"))\n",
        "num2 = int(input(\"ingrese el valor num2:\"))\n",
        "if num1 > num2:\n",
        "    print(\"el numero mayor es\", num1)\n",
        "else:\n",
        "    print(\"el numero mayor es\", num2)"
      ]
    },
    {
      "cell_type": "code",
      "source": [
        "# leer los datos\n",
        "num1 = 0\n",
        "num2 = 0\n",
        "num1 = int(input(\"ingrese el valor num1:\"))\n",
        "num2 = int(input(\"ingrese el valor num2:\"))\n",
        "# condicionar el resultado\n",
        "if num1 > num2:\n",
        "    print(\"el numero mayor es\", num1)\n",
        "    # imprimir el resultado\n",
        "\n",
        "else:\n",
        "    print(\"el numero mayor es\", num2)"
      ],
      "metadata": {
        "colab": {
          "base_uri": "https://localhost:8080/"
        },
        "id": "dJ1y2paDTJo0",
        "outputId": "63874895-5f4d-43d1-eb32-41a93c1b71ec"
      },
      "execution_count": 6,
      "outputs": [
        {
          "output_type": "stream",
          "name": "stdout",
          "text": [
            "ingrese el valor num1:5\n",
            "ingrese el valor num2:3\n",
            "el numero mayor es 5\n"
          ]
        }
      ]
    },
    {
      "cell_type": "code",
      "source": [],
      "metadata": {
        "id": "40HwYCz1UIAH"
      },
      "execution_count": null,
      "outputs": []
    }
  ]
}