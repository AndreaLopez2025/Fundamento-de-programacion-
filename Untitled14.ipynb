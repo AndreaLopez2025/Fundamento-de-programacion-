{
  "nbformat": 4,
  "nbformat_minor": 0,
  "metadata": {
    "colab": {
      "provenance": [],
      "authorship_tag": "ABX9TyNtx/rM2ArbANC9B7QQHoGK",
      "include_colab_link": true
    },
    "kernelspec": {
      "name": "python3",
      "display_name": "Python 3"
    },
    "language_info": {
      "name": "python"
    }
  },
  "cells": [
    {
      "cell_type": "markdown",
      "metadata": {
        "id": "view-in-github",
        "colab_type": "text"
      },
      "source": [
        "<a href=\"https://colab.research.google.com/github/AndreaLopez2025/Fundamento-de-programacion-/blob/main/Untitled14.ipynb\" target=\"_parent\"><img src=\"https://colab.research.google.com/assets/colab-badge.svg\" alt=\"Open In Colab\"/></a>"
      ]
    },
    {
      "cell_type": "markdown",
      "source": [],
      "metadata": {
        "id": "TKlchj2hxArz"
      }
    },
    {
      "cell_type": "code",
      "execution_count": 3,
      "metadata": {
        "colab": {
          "base_uri": "https://localhost:8080/"
        },
        "id": "oWYMNHY5w_xY",
        "outputId": "8928b2d2-c657-4d49-b9bd-226d9a87fa56"
      },
      "outputs": [
        {
          "output_type": "stream",
          "name": "stdout",
          "text": [
            "introduzca el primer numero a operar: 5\n",
            "introduzca el segundo numero a operar: 2\n",
            "introduzca la operacion a realizar (*,/,+,-): -\n",
            "3.0\n"
          ]
        }
      ],
      "source": [
        "n1 = float(input(\"introduzca el primer numero a operar: \"))\n",
        "n2 = float(input(\"introduzca el segundo numero a operar: \"))\n",
        "operacion = input(\"introduzca la operacion a realizar (*,/,+,-): \")\n",
        "\n",
        "match operacion:\n",
        "    case \"+\":\n",
        "        print(n1 + n2)\n",
        "    case \"-\":\n",
        "        print(n1 - n2)\n",
        "    case \"*\":\n",
        "        print(n1 * n2)\n",
        "    case \"/\":\n",
        "        if n2 == 0:\n",
        "            print(\"no se puede dividir entre 0\")\n",
        "        else:\n",
        "            print(n1 / n2)"
      ]
    },
    {
      "cell_type": "code",
      "source": [],
      "metadata": {
        "id": "MhsyVBi4yekf"
      },
      "execution_count": null,
      "outputs": []
    }
  ]
}