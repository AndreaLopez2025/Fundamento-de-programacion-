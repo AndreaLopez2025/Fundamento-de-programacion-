{
  "nbformat": 4,
  "nbformat_minor": 0,
  "metadata": {
    "colab": {
      "provenance": [],
      "authorship_tag": "ABX9TyP56oMXbv5Gk0B9gK2pAfXj",
      "include_colab_link": true
    },
    "kernelspec": {
      "name": "python3",
      "display_name": "Python 3"
    },
    "language_info": {
      "name": "python"
    }
  },
  "cells": [
    {
      "cell_type": "markdown",
      "metadata": {
        "id": "view-in-github",
        "colab_type": "text"
      },
      "source": [
        "<a href=\"https://colab.research.google.com/github/AndreaLopez2025/Fundamento-de-programacion-/blob/main/Untitled11.ipynb\" target=\"_parent\"><img src=\"https://colab.research.google.com/assets/colab-badge.svg\" alt=\"Open In Colab\"/></a>"
      ]
    },
    {
      "cell_type": "code",
      "execution_count": null,
      "metadata": {
        "id": "QwYG3B0LCAq1"
      },
      "outputs": [],
      "source": []
    },
    {
      "cell_type": "markdown",
      "source": [
        "QUE MARCA DE CROQUETAS ES MEJOR \"NUPEC\" o \"ROYAL CANIN\""
      ],
      "metadata": {
        "id": "32nxkBLdCBQD"
      }
    },
    {
      "cell_type": "code",
      "source": [
        "#leer datos\n",
        "nupec_proteina = 90\n",
        "royal_proteina = 80\n",
        "#hacer operacion y calculat\n",
        "if nupec_proteina > royal_proteina:\n",
        "    print(\"NUPEC\")\n",
        "else:\n",
        "    print(\"ROYAL CANIN\")"
      ],
      "metadata": {
        "colab": {
          "base_uri": "https://localhost:8080/"
        },
        "id": "H4lt1jiICL4J",
        "outputId": "8901ab53-69f4-4c5b-8377-681bae9e3910"
      },
      "execution_count": 2,
      "outputs": [
        {
          "output_type": "stream",
          "name": "stdout",
          "text": [
            "NUPEC\n"
          ]
        }
      ]
    }
  ]
}