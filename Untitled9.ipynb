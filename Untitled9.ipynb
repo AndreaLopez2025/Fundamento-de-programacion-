{
  "nbformat": 4,
  "nbformat_minor": 0,
  "metadata": {
    "colab": {
      "provenance": [],
      "authorship_tag": "ABX9TyMVbz06UxrOFh64W4Dr9sfS",
      "include_colab_link": true
    },
    "kernelspec": {
      "name": "python3",
      "display_name": "Python 3"
    },
    "language_info": {
      "name": "python"
    }
  },
  "cells": [
    {
      "cell_type": "markdown",
      "metadata": {
        "id": "view-in-github",
        "colab_type": "text"
      },
      "source": [
        "<a href=\"https://colab.research.google.com/github/AndreaLopez2025/Fundamento-de-programacion-/blob/main/Untitled9.ipynb\" target=\"_parent\"><img src=\"https://colab.research.google.com/assets/colab-badge.svg\" alt=\"Open In Colab\"/></a>"
      ]
    },
    {
      "cell_type": "code",
      "execution_count": null,
      "metadata": {
        "id": "VrEmlr_TthLV"
      },
      "outputs": [],
      "source": []
    },
    {
      "cell_type": "markdown",
      "source": [
        "PROGRAMA PARA SABER QUE PESA MAS SI OBJETO \"A\" o OBJETO \"B\""
      ],
      "metadata": {
        "id": "7jBYCAlAti1v"
      }
    },
    {
      "cell_type": "code",
      "source": [
        "#leer datos\n",
        "peso_a = float(input(\"ingrese el peso de objeto A: \"))\n",
        "peso_b = float(input(\"ingrese el peso de objeto B: \"))\n",
        "#Hacer operacion y calcular\n",
        "if peso_a > peso_b:\n",
        "  print(\"el objeto A es mas pesado\")\n",
        "elif peso_b > peso_a:\n",
        "  print(\"el objeto B es mas pesado\")\n",
        "else:\n",
        "  print(\"Ambos objetos pesan lo mismo\")"
      ],
      "metadata": {
        "colab": {
          "base_uri": "https://localhost:8080/"
        },
        "id": "OcNqiaGRtxmX",
        "outputId": "997cfa7c-ebe6-4536-b252-eebcf452ece7"
      },
      "execution_count": 3,
      "outputs": [
        {
          "output_type": "stream",
          "name": "stdout",
          "text": [
            "ingrese el peso de objeto A: 12\n",
            "ingrese el peso de objeto B: 35\n",
            "el objeto B es mas pesado\n"
          ]
        }
      ]
    }
  ]
}