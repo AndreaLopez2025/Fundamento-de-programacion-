{
  "nbformat": 4,
  "nbformat_minor": 0,
  "metadata": {
    "colab": {
      "provenance": [],
      "authorship_tag": "ABX9TyPY04T59FC5Tp2J8/5NlKlG",
      "include_colab_link": true
    },
    "kernelspec": {
      "name": "python3",
      "display_name": "Python 3"
    },
    "language_info": {
      "name": "python"
    }
  },
  "cells": [
    {
      "cell_type": "markdown",
      "metadata": {
        "id": "view-in-github",
        "colab_type": "text"
      },
      "source": [
        "<a href=\"https://colab.research.google.com/github/AndreaLopez2025/Fundamento-de-programacion-/blob/main/Untitled7.ipynb\" target=\"_parent\"><img src=\"https://colab.research.google.com/assets/colab-badge.svg\" alt=\"Open In Colab\"/></a>"
      ]
    },
    {
      "cell_type": "code",
      "execution_count": null,
      "metadata": {
        "id": "hXJ2zrRMoop3"
      },
      "outputs": [],
      "source": []
    },
    {
      "cell_type": "markdown",
      "source": [
        "Programa para encontrar si el numero es mayor  o menor"
      ],
      "metadata": {
        "id": "1HgynYoxop1a"
      }
    },
    {
      "cell_type": "code",
      "source": [
        "#leer datos\n",
        "N1 = int(input(\"numero mayor n1: \"))\n",
        "N2 = int(input(\"numero n2: \"))\n",
        "\n",
        "#hacer operacion\n",
        "if N1 > N2:\n",
        "    print(\"N1 es mayor que N2\")\n",
        "elif N1 < N2:\n",
        "    print(\"N1 es menor que N2\")\n",
        "else:\n",
        "    print(\"N1 es igual a N2\")"
      ],
      "metadata": {
        "colab": {
          "base_uri": "https://localhost:8080/"
        },
        "id": "a-6LNAaapIao",
        "outputId": "82a390aa-2331-414c-c355-d2371032dd82"
      },
      "execution_count": 2,
      "outputs": [
        {
          "output_type": "stream",
          "name": "stdout",
          "text": [
            "numero mayor n1: 3\n",
            "numero n2: 2\n",
            "N1 es mayor que N2\n"
          ]
        }
      ]
    }
  ]
}