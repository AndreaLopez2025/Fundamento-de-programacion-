{
  "nbformat": 4,
  "nbformat_minor": 0,
  "metadata": {
    "colab": {
      "provenance": [],
      "authorship_tag": "ABX9TyN6/USEbk68LCdGz4ucHKaT",
      "include_colab_link": true
    },
    "kernelspec": {
      "name": "python3",
      "display_name": "Python 3"
    },
    "language_info": {
      "name": "python"
    }
  },
  "cells": [
    {
      "cell_type": "markdown",
      "metadata": {
        "id": "view-in-github",
        "colab_type": "text"
      },
      "source": [
        "<a href=\"https://colab.research.google.com/github/AndreaLopez2025/Fundamento-de-programacion-/blob/main/Untitled1.ipynb\" target=\"_parent\"><img src=\"https://colab.research.google.com/assets/colab-badge.svg\" alt=\"Open In Colab\"/></a>"
      ]
    },
    {
      "cell_type": "code",
      "source": [
        "\n",
        "m = float(Input(*ingrese la masa en kg*,m)\n",
        "c= (Input(ingrese la velocidad en m/s)\n",
        " e= m*t**2\n",
        " print(e)\n",
        ""
      ],
      "metadata": {
        "colab": {
          "base_uri": "https://localhost:8080/",
          "height": 106
        },
        "id": "x0AyX3UEIB4z",
        "outputId": "71a274cf-c2b5-42b3-9b66-91d72b8d442a"
      },
      "execution_count": 3,
      "outputs": [
        {
          "output_type": "error",
          "ename": "SyntaxError",
          "evalue": "invalid syntax. Perhaps you forgot a comma? (ipython-input-2598059611.py, line 1)",
          "traceback": [
            "\u001b[0;36m  File \u001b[0;32m\"/tmp/ipython-input-2598059611.py\"\u001b[0;36m, line \u001b[0;32m1\u001b[0m\n\u001b[0;31m    m = float(Input(*ingrese la masa en kg*,m)\u001b[0m\n\u001b[0m                     ^\u001b[0m\n\u001b[0;31mSyntaxError\u001b[0m\u001b[0;31m:\u001b[0m invalid syntax. Perhaps you forgot a comma?\n"
          ]
        }
      ]
    },
    {
      "cell_type": "markdown",
      "source": [
        "fundamentos de programacion itslp andrea lopez galvan 02/10/2025 E=MC2 programa que calcula la equivalencia entre masa y energia"
      ],
      "metadata": {
        "id": "epmnUol2MJOO"
      }
    },
    {
      "cell_type": "markdown",
      "source": [],
      "metadata": {
        "id": "hX2sqw-gMswk"
      }
    },
    {
      "cell_type": "markdown",
      "source": [
        "fundamentos de programacion itslp andrea lopez galvan 02/10/2025 E=MC2 programa que calcula la equivalencia entre masa y energia"
      ],
      "metadata": {
        "id": "E7ZM9MqMMpJ4"
      }
    }
  ]
}