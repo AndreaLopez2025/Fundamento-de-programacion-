{
  "nbformat": 4,
  "nbformat_minor": 0,
  "metadata": {
    "colab": {
      "provenance": [],
      "authorship_tag": "ABX9TyPj/pqbSxnz3kc9vN1I8nI3",
      "include_colab_link": true
    },
    "kernelspec": {
      "name": "python3",
      "display_name": "Python 3"
    },
    "language_info": {
      "name": "python"
    }
  },
  "cells": [
    {
      "cell_type": "markdown",
      "metadata": {
        "id": "view-in-github",
        "colab_type": "text"
      },
      "source": [
        "<a href=\"https://colab.research.google.com/github/AndreaLopez2025/Fundamento-de-programacion-/blob/main/Untitled1.ipynb\" target=\"_parent\"><img src=\"https://colab.research.google.com/assets/colab-badge.svg\" alt=\"Open In Colab\"/></a>"
      ]
    },
    {
      "cell_type": "code",
      "source": [
        "#leer datos\n",
        "m = float(input('ingrese la masa en kg: '))\n",
        "c = float(input('ingrese la velocidad en m/s: '))\n",
        "e = m * c**2\n",
        "print(e)"
      ],
      "metadata": {
        "colab": {
          "base_uri": "https://localhost:8080/"
        },
        "id": "x0AyX3UEIB4z",
        "outputId": "4579fb9e-1bd7-4fee-ddd0-4b04efd724b8"
      },
      "execution_count": 2,
      "outputs": [
        {
          "output_type": "stream",
          "name": "stdout",
          "text": [
            "ingrese la masa en kg: 5\n",
            "ingrese la velocidad en m/s: 9\n",
            "405.0\n"
          ]
        }
      ]
    },
    {
      "cell_type": "markdown",
      "source": [
        "fundamentos de programacion itslp andrea lopez galvan 02/10/2025 E=MC2 programa que calcula la equivalencia entre masa y energia"
      ],
      "metadata": {
        "id": "epmnUol2MJOO"
      }
    },
    {
      "cell_type": "markdown",
      "source": [],
      "metadata": {
        "id": "hX2sqw-gMswk"
      }
    },
    {
      "cell_type": "markdown",
      "source": [
        "fundamentos de programacion itslp andrea lopez galvan 02/10/2025 E=MC2 programa que calcula la equivalencia entre masa y energia"
      ],
      "metadata": {
        "id": "E7ZM9MqMMpJ4"
      }
    }
  ]
}