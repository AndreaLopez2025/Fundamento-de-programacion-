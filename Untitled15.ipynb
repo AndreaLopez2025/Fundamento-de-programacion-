{
  "nbformat": 4,
  "nbformat_minor": 0,
  "metadata": {
    "colab": {
      "provenance": [],
      "authorship_tag": "ABX9TyOJ9m3S/QnkU+arWdT2G2bm",
      "include_colab_link": true
    },
    "kernelspec": {
      "name": "python3",
      "display_name": "Python 3"
    },
    "language_info": {
      "name": "python"
    }
  },
  "cells": [
    {
      "cell_type": "markdown",
      "metadata": {
        "id": "view-in-github",
        "colab_type": "text"
      },
      "source": [
        "<a href=\"https://colab.research.google.com/github/AndreaLopez2025/Fundamento-de-programacion-/blob/main/Untitled15.ipynb\" target=\"_parent\"><img src=\"https://colab.research.google.com/assets/colab-badge.svg\" alt=\"Open In Colab\"/></a>"
      ]
    },
    {
      "cell_type": "markdown",
      "source": [
        "Programaca para sabaer los gastos y ahorros en un super\n",
        "  FUNDAMENTOS DE PROGRAMACION"
      ],
      "metadata": {
        "id": "zP0dIJgN0dch"
      }
    },
    {
      "cell_type": "code",
      "execution_count": 2,
      "metadata": {
        "colab": {
          "base_uri": "https://localhost:8080/"
        },
        "id": "JxqSnScRy6tZ",
        "outputId": "30b09e58-2f2a-4a3e-bf36-8adbb259ab9f"
      },
      "outputs": [
        {
          "output_type": "stream",
          "name": "stdout",
          "text": [
            "ingrese el precio de los electronicos2500\n",
            "ingrese el precio de los lacteos600\n",
            "ingrese el precio de la papeleria800\n",
            "descuento de electronicos 1250.0\n",
            "descuento de lacteos 180.0\n",
            "descuento de papeleria 640.0\n"
          ]
        }
      ],
      "source": [
        "#LEER DATOS\n",
        "descuentos_lacteos= 0.30\n",
        "descuentos_electronicos=0.50\n",
        "descuento_papeleria= 0.80\n",
        "# variables de precios\n",
        "precio_electronicos= float(input(\"ingrese el precio de los electronicos\"))\n",
        "precio_lacteos= float(input(\"ingrese el precio de los lacteos\"))\n",
        "precio_papeleria= float(input(\"ingrese el precio de la papeleria\"))\n",
        "#operacion de descuentos\n",
        "descuento_electronicos= precio_electronicos*descuentos_electronicos\n",
        "descuento_lacteos= precio_lacteos*descuentos_lacteos\n",
        "descuento_papeleria= precio_papeleria*descuento_papeleria\n",
        "#imprimimos datos obtenidos\n",
        "print(\"descuento de electronicos\", descuento_electronicos)\n",
        "print(\"descuento de lacteos\", descuento_lacteos)\n",
        "print(\"descuento de papeleria\", descuento_papeleria)"
      ]
    }
  ]
}