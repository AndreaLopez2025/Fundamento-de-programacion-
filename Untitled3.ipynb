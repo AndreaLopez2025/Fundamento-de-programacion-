{
  "nbformat": 4,
  "nbformat_minor": 0,
  "metadata": {
    "colab": {
      "provenance": [],
      "authorship_tag": "ABX9TyN04HqbCLzqIe9BDZCpOCma",
      "include_colab_link": true
    },
    "kernelspec": {
      "name": "python3",
      "display_name": "Python 3"
    },
    "language_info": {
      "name": "python"
    }
  },
  "cells": [
    {
      "cell_type": "markdown",
      "metadata": {
        "id": "view-in-github",
        "colab_type": "text"
      },
      "source": [
        "<a href=\"https://colab.research.google.com/github/AndreaLopez2025/Fundamento-de-programacion-/blob/main/Untitled3.ipynb\" target=\"_parent\"><img src=\"https://colab.research.google.com/assets/colab-badge.svg\" alt=\"Open In Colab\"/></a>"
      ]
    },
    {
      "cell_type": "markdown",
      "source": [
        "FUNDAMENTOS DE PROGRAMACION Programa que encuentre entre dos numeros diferentes el mayor"
      ],
      "metadata": {
        "id": "8uMZzvSMUNhd"
      }
    },
    {
      "cell_type": "code",
      "source": [
        "# Leer los datos\n",
        "Num1 = 0\n",
        "Num2 = 0\n",
        "Num1 = int(input(\"Ingrese el primer numero: \"))\n",
        "Num2 = int(input(\"Ingrese el segundo numero: \"))\n",
        "# Condicionar el resultado\n",
        "if Num1 > Num2:\n",
        "    print(\"El numero mayor es: \", Num1)\n",
        "else:\n",
        "  #Limpiar los datos\n",
        "    print(\"El numero mayor es: \", Num2)"
      ],
      "metadata": {
        "colab": {
          "base_uri": "https://localhost:8080/"
        },
        "id": "2hS558_8UVAE",
        "outputId": "57212112-1ec5-4074-e7db-fdfd71c0359f"
      },
      "execution_count": 1,
      "outputs": [
        {
          "output_type": "stream",
          "name": "stdout",
          "text": [
            "Ingrese el primer numero: 3\n",
            "Ingrese el segundo numero: 5\n",
            "El numero mayor es:  5\n"
          ]
        }
      ]
    },
    {
      "cell_type": "code",
      "source": [
        "# Leer los datos\n",
        "Num1 = int(input(\"Ingrese el primer numero: \"))\n",
        "Num2 = int(input(\"Ingrese el segundo numero: \"))\n",
        "# Condicionar el resultado\n",
        "if Num1 > Num2:\n",
        "    print(\"El numero mayor es: \", Num1)\n",
        "else:\n",
        "  # Limpiar los datos\n",
        "    print(\"El numero mayor es: \", Num2)"
      ],
      "metadata": {
        "colab": {
          "base_uri": "https://localhost:8080/"
        },
        "id": "VLZg15GvUnb1",
        "outputId": "9047d1cc-254b-4c12-d38d-d0fc0a7f102e"
      },
      "execution_count": 3,
      "outputs": [
        {
          "output_type": "stream",
          "name": "stdout",
          "text": [
            "Ingrese el primer numero: 3\n",
            "Ingrese el segundo numero: 5\n",
            "El numero mayor es:  5\n"
          ]
        }
      ]
    }
  ]
}