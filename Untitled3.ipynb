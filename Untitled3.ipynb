{
  "nbformat": 4,
  "nbformat_minor": 0,
  "metadata": {
    "colab": {
      "provenance": [],
      "authorship_tag": "ABX9TyMBSxduS48ci5sK005+QCOd",
      "include_colab_link": true
    },
    "kernelspec": {
      "name": "python3",
      "display_name": "Python 3"
    },
    "language_info": {
      "name": "python"
    }
  },
  "cells": [
    {
      "cell_type": "markdown",
      "metadata": {
        "id": "view-in-github",
        "colab_type": "text"
      },
      "source": [
        "<a href=\"https://colab.research.google.com/github/AndreaLopez2025/Fundamento-de-programacion-/blob/main/Untitled3.ipynb\" target=\"_parent\"><img src=\"https://colab.research.google.com/assets/colab-badge.svg\" alt=\"Open In Colab\"/></a>"
      ]
    },
    {
      "cell_type": "code",
      "source": [
        "# leer los datos\n",
        "b = int(input(\"ingrese el valor de la base\"))\n",
        "a = int(input(\"ingrese el valor de la altura\"))\n",
        "# hacer operacion\n",
        "area = b * a\n",
        "# imprimir el resultado\n",
        "print(\"el area del rectangulo es\", area)"
      ],
      "metadata": {
        "colab": {
          "base_uri": "https://localhost:8080/"
        },
        "id": "2-_NPOqJXUsj",
        "outputId": "bbeffa9c-dca0-4ea2-ed20-9daf70ad90a5"
      },
      "execution_count": 2,
      "outputs": [
        {
          "output_type": "stream",
          "name": "stdout",
          "text": [
            "ingrese el valor de la base30\n",
            "ingrese el valor de la altura70\n",
            "el area del rectangulo es 2100\n"
          ]
        }
      ]
    }
  ]
}