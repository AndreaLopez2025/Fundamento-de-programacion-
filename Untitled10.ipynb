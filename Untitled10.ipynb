{
  "nbformat": 4,
  "nbformat_minor": 0,
  "metadata": {
    "colab": {
      "provenance": [],
      "authorship_tag": "ABX9TyN6ZhrQEy0ZqGzhXUvaUn92",
      "include_colab_link": true
    },
    "kernelspec": {
      "name": "python3",
      "display_name": "Python 3"
    },
    "language_info": {
      "name": "python"
    }
  },
  "cells": [
    {
      "cell_type": "markdown",
      "metadata": {
        "id": "view-in-github",
        "colab_type": "text"
      },
      "source": [
        "<a href=\"https://colab.research.google.com/github/AndreaLopez2025/Fundamento-de-programacion-/blob/main/Untitled10.ipynb\" target=\"_parent\"><img src=\"https://colab.research.google.com/assets/colab-badge.svg\" alt=\"Open In Colab\"/></a>"
      ]
    },
    {
      "cell_type": "code",
      "execution_count": null,
      "metadata": {
        "id": "ney5C6uZ3k5c"
      },
      "outputs": [],
      "source": []
    },
    {
      "cell_type": "markdown",
      "source": [
        "ALGORITMO PARA SABER QUE UN CONDUCTOR VA EN EL CELULAR"
      ],
      "metadata": {
        "id": "hwEfm-t63mvo"
      }
    },
    {
      "cell_type": "code",
      "source": [
        "#prototipo_detector_uso_celular\n",
        "#variables simuladas\n",
        "mano_cerca_oreja = False\n",
        "mano_cerca_boca = False\n",
        "velocidad_auto = 50 # Assign a numerical value\n",
        "\n",
        "#ciclo monitoreo\n",
        "print(\"deteccion de uso de celular \")\n",
        "\n",
        "#actualizamos variables\n",
        "mano_cerca_oreja = True\n",
        "mano_cerca_boca = True\n",
        "velocidad_auto = 100 # Assign a numerical value\n",
        "\n",
        "#evaluamos condiciones\n",
        "if mano_cerca_boca or mano_cerca_oreja: # Corrected condition and added colon\n",
        "    print(\"uso de celular detectado\")\n",
        "else: # Added colon\n",
        "    print(\"uso de celular no detectado\")"
      ],
      "metadata": {
        "colab": {
          "base_uri": "https://localhost:8080/"
        },
        "id": "9DY_Vn-P4ZeC",
        "outputId": "2050e5b8-7d79-4d4c-e4f0-bac0ad46ef19"
      },
      "execution_count": 5,
      "outputs": [
        {
          "output_type": "stream",
          "name": "stdout",
          "text": [
            "deteccion de uso de celular \n",
            "uso de celular detectado\n"
          ]
        }
      ]
    },
    {
      "cell_type": "code",
      "source": [],
      "metadata": {
        "id": "5cy41wKc6_ym"
      },
      "execution_count": null,
      "outputs": []
    }
  ]
}