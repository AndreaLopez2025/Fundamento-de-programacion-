{
  "nbformat": 4,
  "nbformat_minor": 0,
  "metadata": {
    "colab": {
      "provenance": [],
      "authorship_tag": "ABX9TyPglsuMxPt1YrfotWXF7eiZ",
      "include_colab_link": true
    },
    "kernelspec": {
      "name": "python3",
      "display_name": "Python 3"
    },
    "language_info": {
      "name": "python"
    }
  },
  "cells": [
    {
      "cell_type": "markdown",
      "metadata": {
        "id": "view-in-github",
        "colab_type": "text"
      },
      "source": [
        "<a href=\"https://colab.research.google.com/github/AndreaLopez2025/Fundamento-de-programacion-/blob/main/Untitled13.ipynb\" target=\"_parent\"><img src=\"https://colab.research.google.com/assets/colab-badge.svg\" alt=\"Open In Colab\"/></a>"
      ]
    },
    {
      "cell_type": "code",
      "source": [],
      "metadata": {
        "id": "o5G2dy7RcfB6"
      },
      "execution_count": null,
      "outputs": []
    },
    {
      "cell_type": "code",
      "execution_count": null,
      "metadata": {
        "id": "PMok9EJAcd6S"
      },
      "outputs": [],
      "source": [
        "float n1, n2\n",
        "n1= input(introduzca el primer numero)\n",
        "n2= input(introduzca el segundo numero)\n",
        " operacion=strinput(\"introduzca la operacion a realizar\"(*,/,))\n",
        "\n"
      ]
    }
  ]
}