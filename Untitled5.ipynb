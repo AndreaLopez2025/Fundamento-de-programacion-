{
  "nbformat": 4,
  "nbformat_minor": 0,
  "metadata": {
    "colab": {
      "provenance": [],
      "authorship_tag": "ABX9TyOJO6z7rTEWaYoO//bUTlv1",
      "include_colab_link": true
    },
    "kernelspec": {
      "name": "python3",
      "display_name": "Python 3"
    },
    "language_info": {
      "name": "python"
    }
  },
  "cells": [
    {
      "cell_type": "markdown",
      "metadata": {
        "id": "view-in-github",
        "colab_type": "text"
      },
      "source": [
        "<a href=\"https://colab.research.google.com/github/AndreaLopez2025/Fundamento-de-programacion-/blob/main/Untitled5.ipynb\" target=\"_parent\"><img src=\"https://colab.research.google.com/assets/colab-badge.svg\" alt=\"Open In Colab\"/></a>"
      ]
    },
    {
      "cell_type": "markdown",
      "source": [
        "\n",
        "\n",
        "> Añadir blockquote\n",
        "\n"
      ],
      "metadata": {
        "id": "d5mbyz2sFYWm"
      }
    },
    {
      "cell_type": "markdown",
      "source": [
        "PROGRAMA QUE REALICE UN ALGORITMO QUE DETERMINE SI ES ADMITIDO O RECHAZADO DE ACUERDO AL NIVEL DE INGLES Y EL PROMEDIO"
      ],
      "metadata": {
        "id": "2D-tK9eaFmuu"
      }
    },
    {
      "cell_type": "code",
      "source": [
        "# LERR  datos\n",
        "nivel_ingles = int(input(\"ingrese el nivel de ingles (1-5): \"))\n",
        "promedio = float(input(\"ingrese su promedio: \"))\n",
        "\n",
        "# hacer operacion y imprimir\n",
        "if promedio >= 8.0 and nivel_ingles >= 4 and nivel_ingles <= 5:\n",
        "  print(\"Admitido\")\n",
        "elif promedio < 8.0 and (nivel_ingles >= 4 and nivel_ingles <= 5):\n",
        "  print(\"Rechazado: su promedio es inferior a 8.0\")\n",
        "elif nivel_ingles < 4 and promedio >= 8.0:\n",
        "  print(\"Rechazado: su nivel de ingles es inferior a 4\")\n",
        "elif nivel_ingles < 4 and promedio < 8.0:\n",
        "  print(\"Rechazado: su promedio es inferior a 8.0 y su nivel de ingles es inferior a 4\")\n",
        "elif nivel_ingles > 5:\n",
        "  print(\"Rechazado: su nivel de ingles es superior a 5\")"
      ],
      "metadata": {
        "id": "Js5pPfDkF3-O",
        "colab": {
          "base_uri": "https://localhost:8080/"
        },
        "outputId": "babafd1d-2bc8-4656-988c-68ba61ec2cc6"
      },
      "execution_count": 4,
      "outputs": [
        {
          "output_type": "stream",
          "name": "stdout",
          "text": [
            "ingrese el nivel de ingles (1-5): 3\n",
            "ingrese su promedio: 8\n",
            "Rechazado: su nivel de ingles es inferior a 4\n"
          ]
        }
      ]
    }
  ]
}