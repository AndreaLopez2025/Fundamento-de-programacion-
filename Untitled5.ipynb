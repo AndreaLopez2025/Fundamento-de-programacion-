{
  "nbformat": 4,
  "nbformat_minor": 0,
  "metadata": {
    "colab": {
      "provenance": [],
      "authorship_tag": "ABX9TyMxZlWaWFFe87DiSgHMZ588",
      "include_colab_link": true
    },
    "kernelspec": {
      "name": "python3",
      "display_name": "Python 3"
    },
    "language_info": {
      "name": "python"
    }
  },
  "cells": [
    {
      "cell_type": "markdown",
      "metadata": {
        "id": "view-in-github",
        "colab_type": "text"
      },
      "source": [
        "<a href=\"https://colab.research.google.com/github/AndreaLopez2025/Fundamento-de-programacion-/blob/main/Untitled5.ipynb\" target=\"_parent\"><img src=\"https://colab.research.google.com/assets/colab-badge.svg\" alt=\"Open In Colab\"/></a>"
      ]
    },
    {
      "cell_type": "markdown",
      "source": [
        "\n",
        "\n",
        "> Añadir blockquote\n",
        "\n"
      ],
      "metadata": {
        "id": "d5mbyz2sFYWm"
      }
    },
    {
      "cell_type": "markdown",
      "source": [
        "PROGRAMA QUE REALICE UN ALGORITMO QUE DETERMINE SI ES ADMITIDO O RECHAZADO DE ACUERDO AL NIVEL DE INGLES Y EL PROMEDIO"
      ],
      "metadata": {
        "id": "2D-tK9eaFmuu"
      }
    },
    {
      "cell_type": "code",
      "source": [
        "# LERR  datos\n",
        "nivel_ingles = int(input(\"ingrese el nivel de ingles (1-5): \"))\n",
        "promedio = float(input(\"ingrese su promedio: \"))\n",
        "\n",
        "# hacer operacion y imprimir\n",
        "if promedio > = 8.0 and nivel_ingles >= 4:\n",
        "  print(\"Admitido\")\n",
        "else:\n",
        "  if promedio < = 8.0\n",
        "  print(\"Rechazado: su promedio es inferior a 8.0\")\n",
        "  elif nivel_ingles < 4:\n",
        "    print(\"Rechazado: su nivel de ingles es inferior a 4\")\n",
        "if nivel_ingles < 4:\n",
        "  print(\"Rechazado: su nivel de ingles es inferior a 4\")\n",
        "elif nivel_ingles > 5:\n",
        "  print(\"Rechazado: su nivel de ingles es superior a 5\")"
      ],
      "metadata": {
        "id": "Js5pPfDkF3-O",
        "colab": {
          "base_uri": "https://localhost:8080/",
          "height": 106
        },
        "outputId": "842afc33-4ca7-437c-abf3-a9ec0b9695f9"
      },
      "execution_count": null,
      "outputs": [
        {
          "output_type": "error",
          "ename": "SyntaxError",
          "evalue": "invalid syntax (ipython-input-106436572.py, line 6)",
          "traceback": [
            "\u001b[0;36m  File \u001b[0;32m\"/tmp/ipython-input-106436572.py\"\u001b[0;36m, line \u001b[0;32m6\u001b[0m\n\u001b[0;31m    if promedio > = 8.0 and nivel_ingles >= 4:\u001b[0m\n\u001b[0m                  ^\u001b[0m\n\u001b[0;31mSyntaxError\u001b[0m\u001b[0;31m:\u001b[0m invalid syntax\n"
          ]
        }
      ]
    }
  ]
}