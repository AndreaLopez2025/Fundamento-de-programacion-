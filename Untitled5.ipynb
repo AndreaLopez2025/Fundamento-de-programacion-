{
  "nbformat": 4,
  "nbformat_minor": 0,
  "metadata": {
    "colab": {
      "provenance": [],
      "authorship_tag": "ABX9TyP9uZN7Ccm7ldeMpWq6eOes",
      "include_colab_link": true
    },
    "kernelspec": {
      "name": "python3",
      "display_name": "Python 3"
    },
    "language_info": {
      "name": "python"
    }
  },
  "cells": [
    {
      "cell_type": "markdown",
      "metadata": {
        "id": "view-in-github",
        "colab_type": "text"
      },
      "source": [
        "<a href=\"https://colab.research.google.com/github/AndreaLopez2025/Fundamento-de-programacion-/blob/main/Untitled5.ipynb\" target=\"_parent\"><img src=\"https://colab.research.google.com/assets/colab-badge.svg\" alt=\"Open In Colab\"/></a>"
      ]
    },
    {
      "cell_type": "markdown",
      "source": [
        "\n",
        "\n",
        "> Añadir blockquote\n",
        "\n"
      ],
      "metadata": {
        "id": "d5mbyz2sFYWm"
      }
    },
    {
      "cell_type": "markdown",
      "source": [
        "PROGRAMA QUE REALICE UN ALGORITMO QUE DETERMINE SI ES ADMITIDO O RECHAZADO DE ACUERDO AL NIVEL DE INGLES Y EL PROMEDIO"
      ],
      "metadata": {
        "id": "2D-tK9eaFmuu"
      }
    },
    {
      "cell_type": "code",
      "execution_count": null,
      "metadata": {
        "id": "FcUiNZ45FXIj"
      },
      "outputs": [],
      "source": []
    },
    {
      "cell_type": "code",
      "source": [
        "# LERR  datos\n",
        "nivel_ingles = int(input(\"ingrese el nivel de ingles (1-5): \"))\n",
        "promedio = float(input(\"ingrese su promedio: \"))\n",
        "\n",
        "# hacer operacion y imprimir\n",
        "if promedio >= 8.0 and nivel_ingles >= 4:\n",
        "  print(\"Admitido\")\n",
        "else:\n",
        "  print(\"Rechazado\")"
      ],
      "metadata": {
        "id": "Js5pPfDkF3-O",
        "colab": {
          "base_uri": "https://localhost:8080/"
        },
        "outputId": "37a9d4bd-002b-490d-cb43-7c29de046433"
      },
      "execution_count": 2,
      "outputs": [
        {
          "output_type": "stream",
          "name": "stdout",
          "text": [
            "ingrese el nivel de ingles (1-5): 2\n",
            "ingrese su promedio: 8.0\n",
            "Rechazado\n"
          ]
        }
      ]
    }
  ]
}