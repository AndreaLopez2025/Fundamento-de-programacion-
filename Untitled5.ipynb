{
  "nbformat": 4,
  "nbformat_minor": 0,
  "metadata": {
    "colab": {
      "provenance": [],
      "authorship_tag": "ABX9TyPfLBN7apXFhjku7ATNUSr6",
      "include_colab_link": true
    },
    "kernelspec": {
      "name": "python3",
      "display_name": "Python 3"
    },
    "language_info": {
      "name": "python"
    }
  },
  "cells": [
    {
      "cell_type": "markdown",
      "metadata": {
        "id": "view-in-github",
        "colab_type": "text"
      },
      "source": [
        "<a href=\"https://colab.research.google.com/github/AndreaLopez2025/Fundamento-de-programacion-/blob/main/Untitled5.ipynb\" target=\"_parent\"><img src=\"https://colab.research.google.com/assets/colab-badge.svg\" alt=\"Open In Colab\"/></a>"
      ]
    },
    {
      "cell_type": "markdown",
      "source": [
        "PROGRAMA QUE REALICE UN ALGORITMO QUE DETERMINE SI ES ADMITIDO O RECHAZADO DE ACUERDO AL NIVEL DE INGLES Y EL PROMEDIO"
      ],
      "metadata": {
        "id": "Elw1GMrOG5lM"
      }
    },
    {
      "cell_type": "markdown",
      "source": [
        "\n",
        "\n",
        "> Añadir blockquote\n",
        "\n"
      ],
      "metadata": {
        "id": "d5mbyz2sFYWm"
      }
    },
    {
      "cell_type": "markdown",
      "source": [
        "PROGRAMA QUE REALICE UN ALGORITMO QUE DETERMINE SI ES ADMITIDO O RECHAZADO DE ACUERDO AL NIVEL DE INGLES Y EL PROMEDIO"
      ],
      "metadata": {
        "id": "2D-tK9eaFmuu"
      }
    },
    {
      "cell_type": "code",
      "source": [
        "# LERR  datos\n",
        "n1= int(input(\"ingrese el nivel de ingles\")\n",
        "prom= int(input(\"ingrese su rpomedio\")))\n",
        "# hacer operacion\n",
        "prom<8.0\n",
        "\n"
      ],
      "metadata": {
        "id": "Js5pPfDkF3-O"
      },
      "execution_count": null,
      "outputs": []
    },
    {
      "cell_type": "code",
      "execution_count": null,
      "metadata": {
        "id": "FcUiNZ45FXIj"
      },
      "outputs": [],
      "source": []
    }
  ]
}